{
 "cells": [
  {
   "cell_type": "markdown",
   "metadata": {},
   "source": [
    "# Code to create a database"
   ]
  },
  {
   "cell_type": "code",
   "execution_count": 5,
   "metadata": {},
   "outputs": [
    {
     "ename": "OperationalError",
     "evalue": "near \"autoincrement\": syntax error",
     "output_type": "error",
     "traceback": [
      "\u001b[1;31m---------------------------------------------------------------------------\u001b[0m",
      "\u001b[1;31mOperationalError\u001b[0m                          Traceback (most recent call last)",
      "\u001b[1;32m<ipython-input-5-e3b2bf33a8aa>\u001b[0m in \u001b[0;36m<module>\u001b[1;34m()\u001b[0m\n\u001b[0;32m      5\u001b[0m \u001b[1;31m# creating tables\u001b[0m\u001b[1;33m\u001b[0m\u001b[1;33m\u001b[0m\u001b[0m\n\u001b[0;32m      6\u001b[0m \u001b[1;33m\u001b[0m\u001b[0m\n\u001b[1;32m----> 7\u001b[1;33m \u001b[0mc\u001b[0m\u001b[1;33m.\u001b[0m\u001b[0mexecute\u001b[0m\u001b[1;33m(\u001b[0m\u001b[1;34m\"CREATE TABLE user (ID_User integer autoincrement, user VARCHAR(50) primary key, department VARCHAR(100))\"\u001b[0m\u001b[1;33m)\u001b[0m\u001b[1;33m\u001b[0m\u001b[0m\n\u001b[0m\u001b[0;32m      8\u001b[0m \u001b[0mc\u001b[0m\u001b[1;33m.\u001b[0m\u001b[0mexecute\u001b[0m\u001b[1;33m(\u001b[0m\u001b[1;34m\"CREATE TABLE admin (id_admin integer primary key autoincrement, fullname varchar(50) references user (user), username VARCHAR(30), password VARCHAR(30))\"\u001b[0m\u001b[1;33m)\u001b[0m\u001b[1;33m\u001b[0m\u001b[0m\n\u001b[0;32m      9\u001b[0m \u001b[0mc\u001b[0m\u001b[1;33m.\u001b[0m\u001b[0mexecute\u001b[0m\u001b[1;33m(\u001b[0m\u001b[1;34m\"CREATE TABLE admin_details (id_admin integer primary key references admin (id_admin), [email] VARCHAR(100), phone VARCHAR(100), zip_code VARCHAR(50))\"\u001b[0m\u001b[1;33m)\u001b[0m\u001b[1;33m\u001b[0m\u001b[0m\n",
      "\u001b[1;31mOperationalError\u001b[0m: near \"autoincrement\": syntax error"
     ]
    }
   ],
   "source": [
    "import sqlite3\n",
    "conn = sqlite3.connect('data1.db')\n",
    "c = conn.cursor()\n",
    "\n",
    "# creating tables\n",
    "\n",
    "c.execute(\"CREATE TABLE user (ID_User integer, user VARCHAR(50) primary key, department VARCHAR(100))\")\n",
    "c.execute(\"CREATE TABLE admin (id_admin integer primary key autoincrement, fullname varchar(50) references user (user), username VARCHAR(30), password VARCHAR(30))\")\n",
    "c.execute(\"CREATE TABLE admin_details (id_admin integer primary key references admin (id_admin), [email] VARCHAR(100), phone VARCHAR(100), zip_code VARCHAR(50))\")\n",
    "c.execute(\"CREATE TABLE zip_code (zip_code VARCHAR(50) primary key references admin_details (zip_code), street VARCHAR(100), city VARCHAR(50), country VARCHAR(50))\")\n",
    "c.execute(\"CREATE TABLE history_image (record_id integer primary key, user VARCHAR(50) references user (user), product VARCHAR(50), \\\n",
    "region VARCHAR(50), image_type VARCHAR(50), language VARCHAR(50), date VARCHAR(50), industry VARCHAR(50), brand VARCHAR(50), description VARCHAR(100), date_generated DATETIME DEFAULT (CURRENT_TIMESTAMP))\")\n",
    "c.execute(\"CREATE TABLE history_source (record_id integer primary key, user VARCHAR(50) references user (user), source VARCHAR(50), \\\n",
    "provider VARCHAR(50), division VARCHAR(50), region VARCHAR(50), industry VARCHAR(50), date VARCHAR(50), description VARCHAR(100), date_generated DATETIME DEFAULT (CURRENT_TIMESTAMP))\")\n",
    "c.execute(\"CREATE TABLE history_campaign (record_id integer primary key, user VARCHAR(50) references user (user), date VARCHAR(50), \\\n",
    "division VARCHAR(50), camtype VARCHAR(50), industry VARCHAR(50), region VARCHAR(50), product VARCHAR(50), description VARCHAR(100), date_generated DATETIME DEFAULT (CURRENT_TIMESTAMP))\")\n",
    "\n",
    "# creating lists\n",
    "\n",
    "listus = [(\"1\", \"Lasha Gochiashvili\",\"marketing\"),(\"2\", \"Erim Celen\",\"sales\"),(\"3\", \"Marco Polo\",\"AP\"),(\"4\", \"David Adams\",\"IT\"),(\"5\", \"Adam Smith\",\"marketing\")]\n",
    "listad = [('1','Lasha Gochiashvili', 'lasha', 'lasha123')]\n",
    "listadd = [('1','l.gochiashvili@student.uw.edu.pl','67688779', '123')]\n",
    "listzc = [('123', 'Spiska 16', 'Warsaw', 'Poland')]\n",
    "\n",
    "# adding lists into tables\n",
    "\n",
    "c.executemany('INSERT INTO user VALUES (?,?,?)', listus)\n",
    "c.executemany('INSERT INTO admin VALUES (?,?,?,?)', listad)\n",
    "c.executemany('INSERT INTO admin_details VALUES (?,?,?,?)', listadd)\n",
    "c.executemany('INSERT INTO zip_code VALUES (?,?,?,?)', listzc)\n",
    "\n",
    "conn.commit()\n",
    "conn.close()"
   ]
  },
  {
   "cell_type": "code",
   "execution_count": null,
   "metadata": {},
   "outputs": [],
   "source": []
  }
 ],
 "metadata": {
  "kernelspec": {
   "display_name": "Python 3",
   "language": "python",
   "name": "python3"
  },
  "language_info": {
   "codemirror_mode": {
    "name": "ipython",
    "version": 3
   },
   "file_extension": ".py",
   "mimetype": "text/x-python",
   "name": "python",
   "nbconvert_exporter": "python",
   "pygments_lexer": "ipython3",
   "version": "3.6.3"
  }
 },
 "nbformat": 4,
 "nbformat_minor": 2
}
